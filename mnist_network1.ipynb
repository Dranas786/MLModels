{
 "cells": [
  {
   "cell_type": "code",
   "execution_count": 127,
   "metadata": {},
   "outputs": [],
   "source": [
    "'''\n",
    "CPSC 383, F24\n",
    "Python code to create a MNIST model and test it with my own handwritten code\n",
    "\n",
    "Author: Divyansh Rana, 30117089\n",
    "\n",
    "'''\n",
    "# Code reference - https://www.youtube.com/watch?v=9cPMFTwBdM4\n",
    "\n",
    "from keras.datasets import mnist\n",
    "(train_images, train_labels), (test_images, test_labels) = mnist.load_data()"
   ]
  },
  {
   "cell_type": "code",
   "execution_count": 125,
   "metadata": {},
   "outputs": [],
   "source": [
    "# Organize the data into train and test with a ration of 6:1\n",
    "train_images = train_images.reshape((60000,28,28,1)) # Reshape training images for CNN input (28x28 pixels with 1 channel)\n",
    "train_images = train_images.astype('float32')/255.0 # Normalize pixel values to [0,1]\n",
    "\n",
    "# Reshape test images similarly\n",
    "test_images = test_images.reshape((10000,28,28,1))\n",
    "test_images = test_images.astype('float32')/255.0\n",
    "\n",
    "from tensorflow.keras.utils import to_categorical\n",
    "\n",
    "train_labels = to_categorical(train_labels)\n",
    "test_labels = to_categorical(test_labels)"
   ]
  },
  {
   "cell_type": "code",
   "execution_count": 106,
   "metadata": {},
   "outputs": [
    {
     "name": "stdout",
     "output_type": "stream",
     "text": [
      "Model: \"sequential_14\"\n",
      "_________________________________________________________________\n",
      " Layer (type)                Output Shape              Param #   \n",
      "=================================================================\n",
      " conv2d_29 (Conv2D)          (None, 26, 26, 32)        320       \n",
      "                                                                 \n",
      " max_pooling2d_21 (MaxPoolin  (None, 13, 13, 32)       0         \n",
      " g2D)                                                            \n",
      "                                                                 \n",
      " conv2d_30 (Conv2D)          (None, 11, 11, 64)        18496     \n",
      "                                                                 \n",
      " max_pooling2d_22 (MaxPoolin  (None, 5, 5, 64)         0         \n",
      " g2D)                                                            \n",
      "                                                                 \n",
      " conv2d_31 (Conv2D)          (None, 3, 3, 64)          36928     \n",
      "                                                                 \n",
      " flatten_13 (Flatten)        (None, 576)               0         \n",
      "                                                                 \n",
      " dense_26 (Dense)            (None, 64)                36928     \n",
      "                                                                 \n",
      " dense_27 (Dense)            (None, 10)                650       \n",
      "                                                                 \n",
      "=================================================================\n",
      "Total params: 93,322\n",
      "Trainable params: 93,322\n",
      "Non-trainable params: 0\n",
      "_________________________________________________________________\n"
     ]
    }
   ],
   "source": [
    "from keras import layers\n",
    "from keras import models\n",
    "\n",
    "# input_shape set for 28x28 grayscale images\n",
    "\n",
    "# Define the CNN model architecture\n",
    "model = models.Sequential()\n",
    "# First Conv2D layer: \n",
    "# - Applies 32 filters of size 3x3 \n",
    "model.add(layers.Conv2D(32,(3,3), activation='relu', input_shape = (28,28,1)))\n",
    "\n",
    "# First MaxPooling layer:\n",
    "# - Reduces spatial dimensions by taking the max value in each 2x2 pool\n",
    "model.add(layers.MaxPooling2D((2,2)))\n",
    "model.add(layers.Conv2D(64,(3,3), activation='relu'))\n",
    "model.add(layers.MaxPooling2D((2,2)))\n",
    "model.add(layers.Conv2D(64,(3,3), activation='relu'))\n",
    "\n",
    "# Flatten layer:\n",
    "# - Converts the 3D output of the last Conv2D layer to 1D for the Dense layer input\n",
    "model.add(layers.Flatten())\n",
    "model.add(layers.Dense(64,activation = 'relu'))\n",
    "\n",
    "# - 10 units (one for each digit), with 'softmax' activation to output class probabilities\n",
    "model.add(layers.Dense(10, activation= 'softmax'))\n",
    "\n",
    "model.summary()"
   ]
  },
  {
   "cell_type": "code",
   "execution_count": 128,
   "metadata": {},
   "outputs": [],
   "source": [
    "# Compile the model with the chosen optimizer, loss function, and metric\n",
    "# - optimizer: 'rmsprop' - useful for handling gradient updates efficiently\n",
    "# - loss: 'categorical_crossentropy' is appropriate as it's a multi-class classification problem\n",
    "# - metrics: we track 'accuracy' to assess the model’s performance on the test set\n",
    "model.compile(optimizer = 'rmsprop',\n",
    "             loss = 'categorical_crossentropy',\n",
    "             metrics = ['accuracy'])"
   ]
  },
  {
   "cell_type": "code",
   "execution_count": 108,
   "metadata": {},
   "outputs": [
    {
     "name": "stdout",
     "output_type": "stream",
     "text": [
      "Epoch 1/5\n",
      "938/938 [==============================] - 14s 15ms/step - loss: 0.1689 - accuracy: 0.9474\n",
      "Epoch 2/5\n",
      "938/938 [==============================] - 14s 15ms/step - loss: 0.0459 - accuracy: 0.9855\n",
      "Epoch 3/5\n",
      "938/938 [==============================] - 14s 15ms/step - loss: 0.0330 - accuracy: 0.9901\n",
      "Epoch 4/5\n",
      "938/938 [==============================] - 14s 15ms/step - loss: 0.0250 - accuracy: 0.9921\n",
      "Epoch 5/5\n",
      "938/938 [==============================] - 14s 15ms/step - loss: 0.0204 - accuracy: 0.9940\n"
     ]
    },
    {
     "data": {
      "text/plain": [
       "<keras.callbacks.History at 0x23480711f90>"
      ]
     },
     "execution_count": 108,
     "metadata": {},
     "output_type": "execute_result"
    }
   ],
   "source": [
    "# Only trained for 5 epoch because of the size of the code\n",
    "model.fit(train_images, train_labels, epochs=5, batch_size = 64)"
   ]
  },
  {
   "cell_type": "code",
   "execution_count": 109,
   "metadata": {},
   "outputs": [
    {
     "name": "stdout",
     "output_type": "stream",
     "text": [
      "313/313 [==============================] - 1s 3ms/step - loss: 0.0265 - accuracy: 0.9921\n"
     ]
    },
    {
     "data": {
      "text/plain": [
       "0.9921000003814697"
      ]
     },
     "execution_count": 109,
     "metadata": {},
     "output_type": "execute_result"
    }
   ],
   "source": [
    "model.evaluate(test_images, test_labels)[1]"
   ]
  },
  {
   "cell_type": "code",
   "execution_count": 122,
   "metadata": {},
   "outputs": [
    {
     "name": "stdout",
     "output_type": "stream",
     "text": [
      "Digit 0 Prediction: [0.01725948 0.18914796 0.13761461 0.00712941 0.2145356  0.01672461\n",
      " 0.3823114  0.01438492 0.01005787 0.01083413]\n",
      "Model guessed: 6 with probability 0.3823114037513733\n",
      "Digit 1 Prediction: [0.28036496 0.0297006  0.6214276  0.00466022 0.00533219 0.00501492\n",
      " 0.00510222 0.0306293  0.01377039 0.00399766]\n",
      "Model guessed: 2 with probability 0.621427595615387\n",
      "Digit 2 Prediction: [6.5690759e-03 5.5941564e-01 4.2684880e-01 4.2964239e-06 7.3451683e-04\n",
      " 2.8626279e-03 1.3682568e-03 2.1885345e-03 5.9154931e-06 2.2640866e-06]\n",
      "Model guessed: 1 with probability 0.5594156384468079\n",
      "Digit 3 Prediction: [7.9996335e-06 1.9771733e-05 2.5881835e-05 9.9050444e-01 9.8605251e-06\n",
      " 4.7777155e-03 3.6246641e-07 3.7267534e-03 5.6283458e-05 8.7085244e-04]\n",
      "Model guessed: 3 with probability 0.9905044436454773\n",
      "Digit 4 Prediction: [0.00428038 0.34956133 0.35656163 0.00973525 0.01353377 0.01397739\n",
      " 0.01509404 0.23016185 0.00210788 0.00498657]\n",
      "Model guessed: 2 with probability 0.3565616309642792\n",
      "Digit 5 Prediction: [0.00336431 0.03261636 0.71695495 0.02040543 0.02413644 0.06021326\n",
      " 0.10126002 0.02487898 0.0141215  0.00204862]\n",
      "Model guessed: 2 with probability 0.7169549465179443\n",
      "Digit 6 Prediction: [0.07668526 0.13791029 0.08294745 0.07313317 0.08041733 0.17585236\n",
      " 0.1154838  0.08406162 0.09419313 0.07931557]\n",
      "Model guessed: 5 with probability 0.17585235834121704\n",
      "Digit 7 Prediction: [0.00221715 0.14760056 0.00383091 0.15344858 0.03623156 0.506631\n",
      " 0.00212432 0.02062493 0.00886837 0.11842265]\n",
      "Model guessed: 5 with probability 0.5066310167312622\n",
      "Digit 8 Prediction: [1.8499524e-04 4.9456800e-03 2.1428749e-02 6.2394470e-02 8.0810692e-03\n",
      " 1.2637429e-02 2.9611674e-03 3.7215177e-03 8.8283193e-01 8.1299071e-04]\n",
      "Model guessed: 8 with probability 0.8828319311141968\n",
      "Digit 9 Prediction: [1.6563984e-02 4.9163792e-02 2.9723382e-01 2.4505835e-03 1.8559475e-04\n",
      " 2.6762698e-02 5.7383260e-04 6.0349262e-01 1.6137159e-03 1.9593535e-03]\n",
      "Model guessed: 7 with probability 0.6034926176071167\n"
     ]
    }
   ],
   "source": [
    "import numpy as np\n",
    "handwritten_digits = np.load(\"digits.npy\")  \n",
    "\n",
    "# The file had a default value of 255 whereas the model was trained on a default value of 0\n",
    "handwritten_digits[handwritten_digits == 255] = 0\n",
    "\n",
    "# reshaping the .npy file to be similar to the trained data\n",
    "handwritten_digits = handwritten_digits.reshape(10, 28, 28, 1)  \n",
    "handwritten_digits = handwritten_digits.astype(\"float32\") / 255.0\n",
    "predictions = []\n",
    "\n",
    "# Fins the predictions for each \n",
    "for digit in handwritten_digits:\n",
    "    # Model expects a batch, so expand dimension\n",
    "    digit = np.expand_dims(digit,\n",
    "                            axis=0)\n",
    "    prediction = model.predict(digit)\n",
    "    predictions.append(prediction[0])  # Append the prediction for each digit\n",
    "\n",
    "\n",
    "for i, prediction in enumerate(predictions):\n",
    "    print(f\"Digit {i} Prediction: {prediction}\")\n",
    "    print(f\"Model guessed: {np.argmax(prediction)} with probability {np.max(prediction)}\")\n"
   ]
  },
  {
   "cell_type": "code",
   "execution_count": 123,
   "metadata": {},
   "outputs": [
    {
     "data": {
      "image/png": "[encoded data removed]",
      "text/plain": [
       "<Figure size 720x144 with 10 Axes>"
      ]
     },
     "metadata": {
      "needs_background": "light"
     },
     "output_type": "display_data"
    },
    {
     "data": {
      "image/png": "[encoded data removed]",
      "text/plain": [
       "<Figure size 720x144 with 10 Axes>"
      ]
     },
     "metadata": {
      "needs_background": "light"
     },
     "output_type": "display_data"
    }
   ],
   "source": [
    "# Display the images for the report\n",
    "\n",
    "import numpy as np\n",
    "import matplotlib.pyplot as plt\n",
    "\n",
    "# Load .npy files\n",
    "clean_digits = np.load('step2_output/digits.npy')\n",
    "messy_digits = np.load('part2_a2/digits.npy')\n",
    "\n",
    "def display_digits(images, title, n=10):\n",
    "    \"\"\"\n",
    "    Display the first n images in a grid.\n",
    "    \n",
    "    Args:\n",
    "    images (numpy array): Array of images to display.\n",
    "    title (str): Title of the display.\n",
    "    n (int): Number of images to display. Defaults to 10.\n",
    "    \"\"\"\n",
    "    plt.figure(figsize=(10, 2))\n",
    "    plt.suptitle(title, fontsize=16)\n",
    "    \n",
    "    for i in range(n):\n",
    "        plt.subplot(1, n, i + 1)\n",
    "        plt.imshow(images[i], cmap='gray')\n",
    "        plt.axis('off')\n",
    "    \n",
    "    plt.show()\n",
    "\n",
    "# Display the first 10 images in each dataset\n",
    "display_digits(clean_digits, 'Clean Handwritten Digits')\n",
    "display_digits(messy_digits, 'Messy Handwritten Digits')\n"
   ]
  }
 ],
 "metadata": {
  "kernelspec": {
   "display_name": "Python 3",
   "language": "python",
   "name": "python3"
  },
  "language_info": {
   "codemirror_mode": {
    "name": "ipython",
    "version": 3
   },
   "file_extension": ".py",
   "mimetype": "text/x-python",
   "name": "python",
   "nbconvert_exporter": "python",
   "pygments_lexer": "ipython3",
   "version": "3.10.4"
  }
 },
 "nbformat": 4,
 "nbformat_minor": 2
}
